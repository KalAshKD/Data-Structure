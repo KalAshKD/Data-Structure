{
 "cells": [
  {
   "cell_type": "markdown",
   "metadata": {},
   "source": [
    "# DSA SORTING TECHNIQUES/ALGORITHM"
   ]
  },
  {
   "cell_type": "markdown",
   "metadata": {},
   "source": [
    "There are few sorting techniques by which we can sort the array type of data structure."
   ]
  },
  {
   "cell_type": "markdown",
   "metadata": {},
   "source": [
    "## BUBBLE SORT ALGORITHM\n",
    "\n"
   ]
  },
  {
   "cell_type": "code",
   "execution_count": 4,
   "metadata": {},
   "outputs": [
    {
     "name": "stdout",
     "output_type": "stream",
     "text": [
      "The Unsorted array is [2, 8, 3, 4, 6, 1]\n",
      "After aaplying BUBBLE SORT algorithm the array becomes [1, 2, 3, 4, 6, 8]\n",
      "None\n"
     ]
    }
   ],
   "source": [
    "def BubbleSort(array):\n",
    "    n = len(array)\n",
    "    for i in range(n):\n",
    "        for j in range(n - i - 1):\n",
    "            if array[j] > array[j + 1]:\n",
    "                array[j], array[j + 1] = array[j + 1], array[j]\n",
    "    print(array)\n",
    "\n",
    "arr = [2, 8, 3, 4, 6, 1]\n",
    "print \"The Unsorted array is\",arr\n",
    "\n",
    "print \"After aaplying BUBBLE SORT algorithm the array becomes\",BubbleSort(arr)"
   ]
  },
  {
   "cell_type": "markdown",
   "metadata": {},
   "source": [
    "## SELECTION SORT"
   ]
  },
  {
   "cell_type": "code",
   "execution_count": 5,
   "metadata": {},
   "outputs": [
    {
     "name": "stdout",
     "output_type": "stream",
     "text": [
      "The Unsorted array is [2, 82, 35, 4, 61, 1]\n",
      "The Sorted array after applying Selection Sort is [1, 2, 4, 35, 61, 82]\n",
      "None\n"
     ]
    }
   ],
   "source": [
    "def SelectSort(Array):\n",
    "    n = len(Array)\n",
    "    for i in range(n):\n",
    "        min=i\n",
    "        for j in range(i+1,n):\n",
    "            if Array[j] < Array[min]:\n",
    "                min=j\n",
    "        Array[i],Array[min]=Array[min],Array[i]\n",
    "    print(Array)\n",
    "\n",
    "Arr = [2, 82, 35, 4, 61, 1]\n",
    "print \"The Unsorted array is\",Arr\n",
    "print \"The Sorted array after applying Selection Sort is\",SelectSort(Arr)"
   ]
  },
  {
   "cell_type": "code",
   "execution_count": null,
   "metadata": {},
   "outputs": [],
   "source": []
  },
  {
   "cell_type": "code",
   "execution_count": null,
   "metadata": {},
   "outputs": [],
   "source": []
  }
 ],
 "metadata": {
  "kernelspec": {
   "display_name": "Python 2",
   "language": "python",
   "name": "python2"
  },
  "language_info": {
   "codemirror_mode": {
    "name": "ipython",
    "version": 2
   },
   "file_extension": ".py",
   "mimetype": "text/x-python",
   "name": "python",
   "nbconvert_exporter": "python",
   "pygments_lexer": "ipython2",
   "version": "2.7.14"
  }
 },
 "nbformat": 4,
 "nbformat_minor": 2
}
